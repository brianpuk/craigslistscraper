{
 "cells": [
  {
   "cell_type": "code",
   "execution_count": 2,
   "metadata": {},
   "outputs": [],
   "source": [
    "import pandas as pd\n",
    "import numpy as np\n",
    "import requests\n",
    "import re\n",
    "import matplotlib.pyplot as plt \n",
    "from bs4 import BeautifulSoup\n",
    "\n"
   ]
  },
  {
   "cell_type": "code",
   "execution_count": 3,
   "metadata": {},
   "outputs": [],
   "source": [
    "with open(\"bostoncars1.html\") as file_reader:\n",
    "    soup = BeautifulSoup(file_reader, 'html.parser')"
   ]
  },
  {
   "cell_type": "code",
   "execution_count": 4,
   "metadata": {
    "scrolled": true
   },
   "outputs": [],
   "source": [
    "carcontent = soup.findAll(\"p\", {\"class\": \"result-info\"})"
   ]
  },
  {
   "cell_type": "code",
   "execution_count": 5,
   "metadata": {
    "scrolled": true
   },
   "outputs": [
    {
     "data": {
      "text/html": [
       "<div>\n",
       "<style scoped>\n",
       "    .dataframe tbody tr th:only-of-type {\n",
       "        vertical-align: middle;\n",
       "    }\n",
       "\n",
       "    .dataframe tbody tr th {\n",
       "        vertical-align: top;\n",
       "    }\n",
       "\n",
       "    .dataframe thead th {\n",
       "        text-align: right;\n",
       "    }\n",
       "</style>\n",
       "<table border=\"1\" class=\"dataframe\">\n",
       "  <thead>\n",
       "    <tr style=\"text-align: right;\">\n",
       "      <th></th>\n",
       "      <th>Title</th>\n",
       "      <th>Price</th>\n",
       "      <th>Neighborhood</th>\n",
       "    </tr>\n",
       "  </thead>\n",
       "  <tbody>\n",
       "    <tr>\n",
       "      <th>0</th>\n",
       "      <td>[08 BMW 128i Convertible (E88)]</td>\n",
       "      <td>[$9500]</td>\n",
       "      <td>[ (Peabody)]</td>\n",
       "    </tr>\n",
       "    <tr>\n",
       "      <th>1</th>\n",
       "      <td>[2010 Honda CRV EX-L]</td>\n",
       "      <td>[$8500]</td>\n",
       "      <td>[ (Duxbury)]</td>\n",
       "    </tr>\n",
       "    <tr>\n",
       "      <th>2</th>\n",
       "      <td>[2011 Nissan Rogue]</td>\n",
       "      <td>[$7500]</td>\n",
       "      <td>[ (Watertown)]</td>\n",
       "    </tr>\n",
       "    <tr>\n",
       "      <th>3</th>\n",
       "      <td>[1954 Chrysler New Yorker Hemi Deluxe]</td>\n",
       "      <td>[$14900]</td>\n",
       "      <td>[ (belchertown)]</td>\n",
       "    </tr>\n",
       "    <tr>\n",
       "      <th>4</th>\n",
       "      <td>[2008 Ford Crown Vic P71 Police Interceptor]</td>\n",
       "      <td>[$4500]</td>\n",
       "      <td>[ (Wakefield)]</td>\n",
       "    </tr>\n",
       "    <tr>\n",
       "      <th>...</th>\n",
       "      <td>...</td>\n",
       "      <td>...</td>\n",
       "      <td>...</td>\n",
       "    </tr>\n",
       "    <tr>\n",
       "      <th>115</th>\n",
       "      <td>[Bmw 750li]</td>\n",
       "      <td>[$14300]</td>\n",
       "      <td>[ (Hanover Ma)]</td>\n",
       "    </tr>\n",
       "    <tr>\n",
       "      <th>116</th>\n",
       "      <td>[Volkswagen passat AWD]</td>\n",
       "      <td>[$1600]</td>\n",
       "      <td>None</td>\n",
       "    </tr>\n",
       "    <tr>\n",
       "      <th>117</th>\n",
       "      <td>[2005 Subaru Legacy Outback 2.5i  / Celery Green]</td>\n",
       "      <td>[$6000]</td>\n",
       "      <td>[ (Topsfield)]</td>\n",
       "    </tr>\n",
       "    <tr>\n",
       "      <th>118</th>\n",
       "      <td>[2005 JEEP GRANDE CHEROKEE . NO MECHANIC ISSUE...</td>\n",
       "      <td>[$2850]</td>\n",
       "      <td>[ (Billerica)]</td>\n",
       "    </tr>\n",
       "    <tr>\n",
       "      <th>119</th>\n",
       "      <td>[2002 ford mustang]</td>\n",
       "      <td>[$4400]</td>\n",
       "      <td>[ (Newton Highlands)]</td>\n",
       "    </tr>\n",
       "  </tbody>\n",
       "</table>\n",
       "<p>120 rows × 3 columns</p>\n",
       "</div>"
      ],
      "text/plain": [
       "                                                 Title     Price  \\\n",
       "0                      [08 BMW 128i Convertible (E88)]   [$9500]   \n",
       "1                                [2010 Honda CRV EX-L]   [$8500]   \n",
       "2                                  [2011 Nissan Rogue]   [$7500]   \n",
       "3               [1954 Chrysler New Yorker Hemi Deluxe]  [$14900]   \n",
       "4         [2008 Ford Crown Vic P71 Police Interceptor]   [$4500]   \n",
       "..                                                 ...       ...   \n",
       "115                                        [Bmw 750li]  [$14300]   \n",
       "116                            [Volkswagen passat AWD]   [$1600]   \n",
       "117  [2005 Subaru Legacy Outback 2.5i  / Celery Green]   [$6000]   \n",
       "118  [2005 JEEP GRANDE CHEROKEE . NO MECHANIC ISSUE...   [$2850]   \n",
       "119                                [2002 ford mustang]   [$4400]   \n",
       "\n",
       "              Neighborhood  \n",
       "0             [ (Peabody)]  \n",
       "1             [ (Duxbury)]  \n",
       "2           [ (Watertown)]  \n",
       "3         [ (belchertown)]  \n",
       "4           [ (Wakefield)]  \n",
       "..                     ...  \n",
       "115        [ (Hanover Ma)]  \n",
       "116                   None  \n",
       "117         [ (Topsfield)]  \n",
       "118         [ (Billerica)]  \n",
       "119  [ (Newton Highlands)]  \n",
       "\n",
       "[120 rows x 3 columns]"
      ]
     },
     "execution_count": 5,
     "metadata": {},
     "output_type": "execute_result"
    }
   ],
   "source": [
    "listingInfo = []\n",
    "for car in carcontent:\n",
    "    listing = {}\n",
    "    listing['Title'] = car.find(\"a\", {\"class\":\"result-title hdrlnk\"})\n",
    "    listing[\"Price\"] = car.find(\"span\", {'class':'result-price'})\n",
    "    hood = car.find(\"span\", {\"class\":'result-hood'})\n",
    "    listing['Neighborhood'] = hood\n",
    "    listingInfo.append(listing)\n",
    "    \n",
    "listingPage = pd.DataFrame(listingInfo)\n",
    "\n",
    "listingPage"
   ]
  },
  {
   "cell_type": "code",
   "execution_count": 6,
   "metadata": {},
   "outputs": [
    {
     "data": {
      "text/html": [
       "<div>\n",
       "<style scoped>\n",
       "    .dataframe tbody tr th:only-of-type {\n",
       "        vertical-align: middle;\n",
       "    }\n",
       "\n",
       "    .dataframe tbody tr th {\n",
       "        vertical-align: top;\n",
       "    }\n",
       "\n",
       "    .dataframe thead th {\n",
       "        text-align: right;\n",
       "    }\n",
       "</style>\n",
       "<table border=\"1\" class=\"dataframe\">\n",
       "  <thead>\n",
       "    <tr style=\"text-align: right;\">\n",
       "      <th></th>\n",
       "      <th>state</th>\n",
       "      <th>area</th>\n",
       "      <th>link</th>\n",
       "    </tr>\n",
       "  </thead>\n",
       "  <tbody>\n",
       "    <tr>\n",
       "      <th>0</th>\n",
       "      <td>AK</td>\n",
       "      <td>anchorage / mat-su</td>\n",
       "      <td>https://anchorage.craigslist.org/search/cto?qu...</td>\n",
       "    </tr>\n",
       "    <tr>\n",
       "      <th>1</th>\n",
       "      <td>AK</td>\n",
       "      <td>fairbanks, AK</td>\n",
       "      <td>https://fairbanks.craigslist.org/search/cto?qu...</td>\n",
       "    </tr>\n",
       "    <tr>\n",
       "      <th>2</th>\n",
       "      <td>AK</td>\n",
       "      <td>southeast alaska</td>\n",
       "      <td>https://juneau.craigslist.org/search/cto?query...</td>\n",
       "    </tr>\n",
       "    <tr>\n",
       "      <th>3</th>\n",
       "      <td>AK</td>\n",
       "      <td>little rock</td>\n",
       "      <td>https://littlerock.craigslist.org/search/cto?q...</td>\n",
       "    </tr>\n",
       "    <tr>\n",
       "      <th>4</th>\n",
       "      <td>AK</td>\n",
       "      <td>kenai peninsula</td>\n",
       "      <td>https://kenai.craigslist.org/search/cto?query=...</td>\n",
       "    </tr>\n",
       "    <tr>\n",
       "      <th>...</th>\n",
       "      <td>...</td>\n",
       "      <td>...</td>\n",
       "      <td>...</td>\n",
       "    </tr>\n",
       "    <tr>\n",
       "      <th>408</th>\n",
       "      <td>WV</td>\n",
       "      <td>morgantown, WV</td>\n",
       "      <td>https://morgantown.craigslist.org/search/cto?q...</td>\n",
       "    </tr>\n",
       "    <tr>\n",
       "      <th>409</th>\n",
       "      <td>WV</td>\n",
       "      <td>southern WV</td>\n",
       "      <td>https://swv.craigslist.org/search/cto?query=CA...</td>\n",
       "    </tr>\n",
       "    <tr>\n",
       "      <th>410</th>\n",
       "      <td>WV</td>\n",
       "      <td>eastern panhandle</td>\n",
       "      <td>https://martinsburg.craigslist.org/search/cto?...</td>\n",
       "    </tr>\n",
       "    <tr>\n",
       "      <th>411</th>\n",
       "      <td>WV</td>\n",
       "      <td>huntington-ashland</td>\n",
       "      <td>https://huntington.craigslist.org/search/cto?q...</td>\n",
       "    </tr>\n",
       "    <tr>\n",
       "      <th>412</th>\n",
       "      <td>WY</td>\n",
       "      <td>wyoming</td>\n",
       "      <td>https://wyoming.craigslist.org/search/cto?quer...</td>\n",
       "    </tr>\n",
       "  </tbody>\n",
       "</table>\n",
       "<p>413 rows × 3 columns</p>\n",
       "</div>"
      ],
      "text/plain": [
       "    state                area  \\\n",
       "0      AK  anchorage / mat-su   \n",
       "1      AK       fairbanks, AK   \n",
       "2      AK    southeast alaska   \n",
       "3      AK         little rock   \n",
       "4      AK     kenai peninsula   \n",
       "..    ...                 ...   \n",
       "408    WV      morgantown, WV   \n",
       "409    WV         southern WV   \n",
       "410    WV   eastern panhandle   \n",
       "411    WV  huntington-ashland   \n",
       "412    WY             wyoming   \n",
       "\n",
       "                                                  link  \n",
       "0    https://anchorage.craigslist.org/search/cto?qu...  \n",
       "1    https://fairbanks.craigslist.org/search/cto?qu...  \n",
       "2    https://juneau.craigslist.org/search/cto?query...  \n",
       "3    https://littlerock.craigslist.org/search/cto?q...  \n",
       "4    https://kenai.craigslist.org/search/cto?query=...  \n",
       "..                                                 ...  \n",
       "408  https://morgantown.craigslist.org/search/cto?q...  \n",
       "409  https://swv.craigslist.org/search/cto?query=CA...  \n",
       "410  https://martinsburg.craigslist.org/search/cto?...  \n",
       "411  https://huntington.craigslist.org/search/cto?q...  \n",
       "412  https://wyoming.craigslist.org/search/cto?quer...  \n",
       "\n",
       "[413 rows x 3 columns]"
      ]
     },
     "execution_count": 6,
     "metadata": {},
     "output_type": "execute_result"
    }
   ],
   "source": [
    "searchPop = \"search/cto?query=CARS&sort=rel&min_price=100&max_price=150000\"\n",
    "\n",
    "usa_df = pd.read_excel(open('craigslistUSA.xlsx', 'rb'), sheet_name = 'Sheet1')\n",
    "usa_df['link'] = usa_df['link'].astype(str) + searchPop\n",
    "\n",
    "usa_df"
   ]
  },
  {
   "cell_type": "code",
   "execution_count": 32,
   "metadata": {},
   "outputs": [],
   "source": [
    "def createDF(link, state):\n",
    "    response = requests.get(link)\n",
    "    soup = BeautifulSoup(response.text, 'lxml')\n",
    "    carcontent = soup.findAll('p', {'class':'result-info'})\n",
    "    listingInfo = []\n",
    "    for car in carcontent:\n",
    "        listing = {}\n",
    "        listing['Title'] = car.find(\"a\", {\"class\":\"result-title hdrlnk\"}).text\n",
    "        listing[\"Price\"] = int(car.find(\"span\", {'class':'result-price'}).text.replace('$',''))\n",
    "        hood = car.find('span', {\"class\":'result-hood'})\n",
    "        listing['Neighborhood'] = hood.text.replace('(','').replace(')','') if hood else None\n",
    "        listing['State'] = state\n",
    "        listingInfo.append(listing)\n",
    "    listingPage = pd.DataFrame(listingInfo)\n",
    "    return(listingPage)\n",
    "\n",
    "\n",
    "\n",
    "    \n",
    "    \n",
    "    \n",
    "    "
   ]
  },
  {
   "cell_type": "code",
   "execution_count": 33,
   "metadata": {},
   "outputs": [],
   "source": [
    "def mergeStateDF(stateName, state_df, usa_df):\n",
    "    for index,row in usa_df.iterrows():\n",
    "        if(row['state'] == stateName):\n",
    "            temp_df = createDF(row['link'], stateName)\n",
    "            state_df = pd.concat([state_df,temp_df])\n",
    "            temp_df = temp_df.iloc[0:0]\n",
    "    return(state_df)"
   ]
  },
  {
   "cell_type": "code",
   "execution_count": 35,
   "metadata": {
    "scrolled": true
   },
   "outputs": [
    {
     "data": {
      "text/plain": [
       "array(['AK', 'AL', 'AR', 'AZ', 'CA', 'CO', 'CT', 'DC', 'DE', 'FL', 'GA',\n",
       "       'HI', 'IA', 'ID', 'IL', 'IN', 'KS', 'KY', 'LA', 'MA', 'MD', 'ME',\n",
       "       'MI', 'MN', 'MO', 'MS', 'MT', 'NC', 'ND', 'NE', 'NH', 'NJ', 'NM',\n",
       "       'NV', 'NY', 'OH', 'OK', 'OR', 'PA', 'QA', 'RI', 'SC', 'SD', 'TN',\n",
       "       'TX', 'UT', 'VA', 'VT', 'WA', 'WI', 'WV', 'WY'], dtype=object)"
      ]
     },
     "execution_count": 35,
     "metadata": {},
     "output_type": "execute_result"
    }
   ],
   "source": [
    "usa_df.state.unique()"
   ]
  },
  {
   "cell_type": "code",
   "execution_count": 36,
   "metadata": {},
   "outputs": [],
   "source": [
    "ak_df = pd.DataFrame()\n",
    "al_df = pd.DataFrame()\n",
    "ar_df = pd.DataFrame()\n",
    "az_df = pd.DataFrame()\n",
    "ca_df = pd.DataFrame()\n",
    "co_df = pd.DataFrame()\n",
    "ct_df = pd.DataFrame()\n",
    "dc_df = pd.DataFrame()\n",
    "de_df = pd.DataFrame()\n",
    "fl_df = pd.DataFrame()\n",
    "ga_df = pd.DataFrame()\n",
    "hi_df = pd.DataFrame()\n",
    "ia_df = pd.DataFrame()\n",
    "id_df = pd.DataFrame()\n",
    "il_df = pd.DataFrame()\n",
    "in_df = pd.DataFrame()\n",
    "ks_df = pd.DataFrame()\n",
    "ky_df = pd.DataFrame()\n",
    "la_df = pd.DataFrame()\n",
    "ma_df = pd.DataFrame()\n",
    "md_df = pd.DataFrame()\n",
    "me_df = pd.DataFrame()\n",
    "mi_df = pd.DataFrame()\n",
    "mn_df = pd.DataFrame()\n",
    "mo_df = pd.DataFrame()\n",
    "ms_df = pd.DataFrame()\n",
    "mt_df = pd.DataFrame()\n",
    "nc_df = pd.DataFrame()\n",
    "nd_df = pd.DataFrame()\n",
    "ne_df = pd.DataFrame()\n",
    "nh_df = pd.DataFrame()\n",
    "nj_df = pd.DataFrame()\n",
    "nm_df = pd.DataFrame()\n",
    "nv_df = pd.DataFrame()\n",
    "ny_df = pd.DataFrame()\n",
    "oh_df = pd.DataFrame()\n",
    "ok_df = pd.DataFrame()\n",
    "or_df = pd.DataFrame()\n",
    "pa_df = pd.DataFrame()\n",
    "qa_df = pd.DataFrame()\n",
    "ri_df = pd.DataFrame()\n",
    "sc_df = pd.DataFrame()\n",
    "sd_df = pd.DataFrame()\n",
    "tn_df = pd.DataFrame()\n",
    "tx_df = pd.DataFrame()\n",
    "ut_df = pd.DataFrame()\n",
    "va_df = pd.DataFrame()\n",
    "vt_df = pd.DataFrame()\n",
    "wa_df = pd.DataFrame()\n",
    "wi_df = pd.DataFrame()\n",
    "wv_df = pd.DataFrame()\n",
    "wy_df = pd.DataFrame()"
   ]
  },
  {
   "cell_type": "code",
   "execution_count": 37,
   "metadata": {},
   "outputs": [],
   "source": [
    "ak_df = mergeStateDF('AK', ak_df, usa_df)\n",
    "al_df = mergeStateDF('AL', al_df, usa_df)\n",
    "ar_df = mergeStateDF('AR', ar_df, usa_df)\n",
    "az_df = mergeStateDF('AZ', az_df, usa_df)"
   ]
  },
  {
   "cell_type": "code",
   "execution_count": 39,
   "metadata": {},
   "outputs": [],
   "source": [
    "ca_df = mergeStateDF('CA', ca_df, usa_df)"
   ]
  },
  {
   "cell_type": "code",
   "execution_count": 40,
   "metadata": {},
   "outputs": [],
   "source": [
    "co_df = mergeStateDF('CO', co_df, usa_df)\n",
    "ct_df = mergeStateDF('CT', ct_df, usa_df)\n",
    "dc_df = mergeStateDF('DC', dc_df, usa_df)\n",
    "de_df = mergeStateDF('DE', de_df, usa_df)"
   ]
  },
  {
   "cell_type": "code",
   "execution_count": 41,
   "metadata": {},
   "outputs": [],
   "source": [
    "fl_df = mergeStateDF('FL', fl_df, usa_df)\n",
    "ga_df = mergeStateDF('GA', ga_df, usa_df)\n",
    "hi_df = mergeStateDF('HI', hi_df, usa_df)\n",
    "ia_df = mergeStateDF('IA', ia_df, usa_df)\n",
    "id_df = mergeStateDF('ID', id_df, usa_df)"
   ]
  },
  {
   "cell_type": "code",
   "execution_count": 42,
   "metadata": {},
   "outputs": [],
   "source": [
    "il_df = mergeStateDF('IL', il_df, usa_df)\n",
    "in_df = mergeStateDF('IN', in_df, usa_df)\n",
    "ks_df = mergeStateDF('KS', ks_df, usa_df)\n",
    "ky_df = mergeStateDF('KY', ky_df, usa_df)"
   ]
  },
  {
   "cell_type": "code",
   "execution_count": 43,
   "metadata": {},
   "outputs": [],
   "source": [
    "la_df = mergeStateDF('LA', la_df, usa_df)\n",
    "ma_df = mergeStateDF('MA', ma_df, usa_df)\n",
    "md_df = mergeStateDF('MD', md_df, usa_df)"
   ]
  },
  {
   "cell_type": "code",
   "execution_count": 44,
   "metadata": {},
   "outputs": [],
   "source": [
    "me_df = mergeStateDF('ME', me_df, usa_df)\n",
    "mi_df = mergeStateDF('MI', ma_df, usa_df)\n",
    "mn_df = mergeStateDF('MN', mn_df, usa_df)\n",
    "mo_df = mergeStateDF('MO', mo_df, usa_df)"
   ]
  },
  {
   "cell_type": "code",
   "execution_count": 45,
   "metadata": {},
   "outputs": [],
   "source": [
    "ms_df = mergeStateDF('MS', ms_df, usa_df)\n",
    "mt_df = mergeStateDF('MT', mt_df, usa_df)\n",
    "nc_df = mergeStateDF('NC', nc_df, usa_df)\n",
    "nd_df = mergeStateDF('ND', nd_df, usa_df)\n",
    "ne_df = mergeStateDF('NE', ne_df, usa_df)"
   ]
  },
  {
   "cell_type": "code",
   "execution_count": 46,
   "metadata": {},
   "outputs": [],
   "source": [
    "nh_df = mergeStateDF('NH', nh_df, usa_df)\n",
    "nj_df = mergeStateDF('NJ', nj_df, usa_df)\n",
    "nm_df = mergeStateDF('NM', nm_df, usa_df)\n",
    "nv_df = mergeStateDF('NV', nv_df, usa_df)"
   ]
  },
  {
   "cell_type": "code",
   "execution_count": 47,
   "metadata": {},
   "outputs": [],
   "source": [
    "ny_df = mergeStateDF('NY', ny_df, usa_df)\n",
    "oh_df = mergeStateDF('OH', oh_df, usa_df)\n",
    "ok_df = mergeStateDF('OK', ok_df, usa_df)"
   ]
  },
  {
   "cell_type": "code",
   "execution_count": 48,
   "metadata": {},
   "outputs": [],
   "source": [
    "or_df = mergeStateDF('OR', or_df, usa_df)\n",
    "pa_df = mergeStateDF('PA', pa_df, usa_df)\n",
    "qa_df = mergeStateDF('QA', qa_df, usa_df)\n",
    "ri_df = mergeStateDF('RI', ri_df, usa_df)"
   ]
  },
  {
   "cell_type": "code",
   "execution_count": 49,
   "metadata": {},
   "outputs": [],
   "source": [
    "sc_df = mergeStateDF('SC', sc_df, usa_df)\n",
    "sd_df = mergeStateDF('SD', sd_df, usa_df)\n",
    "tn_df = mergeStateDF('TN', tn_df, usa_df)"
   ]
  },
  {
   "cell_type": "code",
   "execution_count": 50,
   "metadata": {},
   "outputs": [],
   "source": [
    "tx_df = mergeStateDF('TX', tx_df, usa_df)\n",
    "ut_df = mergeStateDF('UT', ut_df, usa_df)"
   ]
  },
  {
   "cell_type": "code",
   "execution_count": 51,
   "metadata": {},
   "outputs": [],
   "source": [
    "va_df = mergeStateDF('VA', va_df, usa_df)\n",
    "vt_df = mergeStateDF('VT', vt_df, usa_df)\n",
    "wa_df = mergeStateDF('WA', wa_df, usa_df)"
   ]
  },
  {
   "cell_type": "code",
   "execution_count": 52,
   "metadata": {},
   "outputs": [],
   "source": [
    "wi_df = mergeStateDF('WI', wi_df, usa_df)\n",
    "wv_df = mergeStateDF('WV', wv_df, usa_df)\n",
    "wy_df = mergeStateDF('WY', wy_df, usa_df)"
   ]
  },
  {
   "cell_type": "code",
   "execution_count": 53,
   "metadata": {},
   "outputs": [
    {
     "data": {
      "text/html": [
       "<div>\n",
       "<style scoped>\n",
       "    .dataframe tbody tr th:only-of-type {\n",
       "        vertical-align: middle;\n",
       "    }\n",
       "\n",
       "    .dataframe tbody tr th {\n",
       "        vertical-align: top;\n",
       "    }\n",
       "\n",
       "    .dataframe thead th {\n",
       "        text-align: right;\n",
       "    }\n",
       "</style>\n",
       "<table border=\"1\" class=\"dataframe\">\n",
       "  <thead>\n",
       "    <tr style=\"text-align: right;\">\n",
       "      <th></th>\n",
       "      <th>Title</th>\n",
       "      <th>Price</th>\n",
       "      <th>Neighborhood</th>\n",
       "      <th>State</th>\n",
       "    </tr>\n",
       "  </thead>\n",
       "  <tbody>\n",
       "    <tr>\n",
       "      <th>0</th>\n",
       "      <td>Cars</td>\n",
       "      <td>25000</td>\n",
       "      <td>Breckenridge</td>\n",
       "      <td>TX</td>\n",
       "    </tr>\n",
       "    <tr>\n",
       "      <th>1</th>\n",
       "      <td>Honda Civic CX Hatchback 2D</td>\n",
       "      <td>1800</td>\n",
       "      <td>abilene</td>\n",
       "      <td>TX</td>\n",
       "    </tr>\n",
       "    <tr>\n",
       "      <th>2</th>\n",
       "      <td>Prettiest Car In Town 2006 Mercedes SL 500</td>\n",
       "      <td>10775</td>\n",
       "      <td>Brownwood</td>\n",
       "      <td>TX</td>\n",
       "    </tr>\n",
       "    <tr>\n",
       "      <th>3</th>\n",
       "      <td>2000 Jeep Wrangler Sport and Accessories</td>\n",
       "      <td>16500</td>\n",
       "      <td>Albany, Texas</td>\n",
       "      <td>TX</td>\n",
       "    </tr>\n",
       "    <tr>\n",
       "      <th>4</th>\n",
       "      <td>2001 lincoln town car</td>\n",
       "      <td>4000</td>\n",
       "      <td>Abilene</td>\n",
       "      <td>TX</td>\n",
       "    </tr>\n",
       "    <tr>\n",
       "      <th>...</th>\n",
       "      <td>...</td>\n",
       "      <td>...</td>\n",
       "      <td>...</td>\n",
       "      <td>...</td>\n",
       "    </tr>\n",
       "    <tr>\n",
       "      <th>115</th>\n",
       "      <td>Dodge caravan SE clean Texas Title 63.000 mile...</td>\n",
       "      <td>8500</td>\n",
       "      <td>None</td>\n",
       "      <td>TX</td>\n",
       "    </tr>\n",
       "    <tr>\n",
       "      <th>116</th>\n",
       "      <td>2006 BMW Z4 3.0i Convertible For Sale</td>\n",
       "      <td>8000</td>\n",
       "      <td>None</td>\n",
       "      <td>TX</td>\n",
       "    </tr>\n",
       "    <tr>\n",
       "      <th>117</th>\n",
       "      <td>1980 SWB Chevy Truck Square Body</td>\n",
       "      <td>1500</td>\n",
       "      <td>None</td>\n",
       "      <td>TX</td>\n",
       "    </tr>\n",
       "    <tr>\n",
       "      <th>118</th>\n",
       "      <td>2013 Smart Car fortwo</td>\n",
       "      <td>4400</td>\n",
       "      <td>None</td>\n",
       "      <td>TX</td>\n",
       "    </tr>\n",
       "    <tr>\n",
       "      <th>119</th>\n",
       "      <td>2004 Cavalier</td>\n",
       "      <td>2000</td>\n",
       "      <td>None</td>\n",
       "      <td>TX</td>\n",
       "    </tr>\n",
       "  </tbody>\n",
       "</table>\n",
       "<p>3190 rows × 4 columns</p>\n",
       "</div>"
      ],
      "text/plain": [
       "                                                 Title  Price    Neighborhood  \\\n",
       "0                                                 Cars  25000    Breckenridge   \n",
       "1                          Honda Civic CX Hatchback 2D   1800         abilene   \n",
       "2           Prettiest Car In Town 2006 Mercedes SL 500  10775       Brownwood   \n",
       "3             2000 Jeep Wrangler Sport and Accessories  16500   Albany, Texas   \n",
       "4                                2001 lincoln town car   4000         Abilene   \n",
       "..                                                 ...    ...             ...   \n",
       "115  Dodge caravan SE clean Texas Title 63.000 mile...   8500            None   \n",
       "116              2006 BMW Z4 3.0i Convertible For Sale   8000            None   \n",
       "117                   1980 SWB Chevy Truck Square Body   1500            None   \n",
       "118                              2013 Smart Car fortwo   4400            None   \n",
       "119                                      2004 Cavalier   2000            None   \n",
       "\n",
       "    State  \n",
       "0      TX  \n",
       "1      TX  \n",
       "2      TX  \n",
       "3      TX  \n",
       "4      TX  \n",
       "..    ...  \n",
       "115    TX  \n",
       "116    TX  \n",
       "117    TX  \n",
       "118    TX  \n",
       "119    TX  \n",
       "\n",
       "[3190 rows x 4 columns]"
      ]
     },
     "execution_count": 53,
     "metadata": {},
     "output_type": "execute_result"
    }
   ],
   "source": [
    "tx_df"
   ]
  },
  {
   "cell_type": "code",
   "execution_count": 54,
   "metadata": {},
   "outputs": [],
   "source": [
    "northeast_df = pd.concat([me_df, vt_df, ma_df, ny_df, ri_df, ct_df, pa_df, nj_df])\n",
    "south_df = pd.concat([de_df, md_df, dc_df, wv_df, va_df, ky_df, tn_df, nc_df, sc_df, ga_df, fl_df, al_df,ms_df,la_df,ar_df,ok_df, tx_df])\n",
    "midwest_df = pd.concat([oh_df, mi_df, in_df,il_df, wi_df, mo_df, ia_df, mn_df, nd_df, sd_df, ne_df, ks_df])\n",
    "west_df = pd.concat([mt_df, qa_df,wy_df, co_df, nm_df, az_df, ut_df, id_df, nv_df, ca_df, or_df,wa_df])"
   ]
  },
  {
   "cell_type": "code",
   "execution_count": 84,
   "metadata": {},
   "outputs": [
    {
     "data": {
      "image/png": "[encoded data removed]",
      "text/plain": [
       "<Figure size 432x288 with 1 Axes>"
      ]
     },
     "metadata": {
      "needs_background": "light"
     },
     "output_type": "display_data"
    },
    {
     "data": {
      "image/png": "[encoded data removed]",
      "text/plain": [
       "<Figure size 432x288 with 1 Axes>"
      ]
     },
     "metadata": {
      "needs_background": "light"
     },
     "output_type": "display_data"
    },
    {
     "data": {
      "image/png": "[encoded data removed]",
      "text/plain": [
       "<Figure size 432x288 with 1 Axes>"
      ]
     },
     "metadata": {
      "needs_background": "light"
     },
     "output_type": "display_data"
    },
    {
     "data": {
      "image/png": "[encoded data removed]",
      "text/plain": [
       "<Figure size 432x288 with 1 Axes>"
      ]
     },
     "metadata": {
      "needs_background": "light"
     },
     "output_type": "display_data"
    }
   ],
   "source": [
    "plt.hist(northeast_df['Price'], bins = 20, range = [0.0,  25000])\n",
    "plt.show()\n",
    "plt.hist(south_df['Price'], bins = 20, range = [0.0, 25000])\n",
    "plt.show()\n",
    "plt.hist(midwest_df['Price'], bins = 20, range = [0.0, 25000])\n",
    "plt.show()\n",
    "plt.hist(west_df['Price'], bins = 20, range = [0.0, 25000])\n",
    "plt.show()"
   ]
  },
  {
   "cell_type": "code",
   "execution_count": 98,
   "metadata": {
    "scrolled": false
   },
   "outputs": [
    {
     "name": "stdout",
     "output_type": "stream",
     "text": [
      "noertheast\n"
     ]
    },
    {
     "data": {
      "image/png": "[encoded data removed]",
      "text/plain": [
       "<Figure size 432x288 with 1 Axes>"
      ]
     },
     "metadata": {
      "needs_background": "light"
     },
     "output_type": "display_data"
    },
    {
     "name": "stdout",
     "output_type": "stream",
     "text": [
      "count      6208.000000\n",
      "mean       9121.561856\n",
      "std       12598.270207\n",
      "min         100.000000\n",
      "25%        2700.000000\n",
      "50%        5500.000000\n",
      "75%       10900.000000\n",
      "max      149000.000000\n",
      "Name: Price, dtype: float64\n",
      "\n",
      "\n",
      "south\n"
     ]
    },
    {
     "data": {
      "image/png": "[encoded data removed]",
      "text/plain": [
       "<Figure size 432x288 with 1 Axes>"
      ]
     },
     "metadata": {
      "needs_background": "light"
     },
     "output_type": "display_data"
    },
    {
     "name": "stdout",
     "output_type": "stream",
     "text": [
      "count     16989.000000\n",
      "mean       9538.965919\n",
      "std       12388.611358\n",
      "min         100.000000\n",
      "25%        2750.000000\n",
      "50%        5600.000000\n",
      "75%       11500.000000\n",
      "max      125000.000000\n",
      "Name: Price, dtype: float64\n",
      "\n",
      "\n",
      "midwest\n"
     ]
    },
    {
     "data": {
      "image/png": "[encoded data removed]",
      "text/plain": [
       "<Figure size 432x288 with 1 Axes>"
      ]
     },
     "metadata": {
      "needs_background": "light"
     },
     "output_type": "display_data"
    },
    {
     "name": "stdout",
     "output_type": "stream",
     "text": [
      "count     13788.000000\n",
      "mean       9492.290760\n",
      "std       11811.870585\n",
      "min         123.000000\n",
      "25%        2950.000000\n",
      "50%        6000.000000\n",
      "75%       12000.000000\n",
      "max      149000.000000\n",
      "Name: Price, dtype: float64\n",
      "\n",
      "\n",
      "west\n"
     ]
    },
    {
     "data": {
      "image/png": "[encoded data removed]",
      "text/plain": [
       "<Figure size 432x288 with 1 Axes>"
      ]
     },
     "metadata": {
      "needs_background": "light"
     },
     "output_type": "display_data"
    },
    {
     "name": "stdout",
     "output_type": "stream",
     "text": [
      "count     10612.000000\n",
      "mean      10383.965605\n",
      "std       12887.731176\n",
      "min         100.000000\n",
      "25%        3200.000000\n",
      "50%        6500.000000\n",
      "75%       12300.000000\n",
      "max      150000.000000\n",
      "Name: Price, dtype: float64\n",
      "\n"
     ]
    }
   ],
   "source": [
    "print('noertheast')\n",
    "sns.boxplot(y=northeast_df.Price)\n",
    "plt.show()\n",
    "print(northeast_df.Price.describe())\n",
    "print()\n",
    "print()\n",
    "\n",
    "print('south')\n",
    "sns.boxplot(y=south_df.Price)\n",
    "plt.show()\n",
    "print(south_df.Price.describe())\n",
    "print()\n",
    "print()\n",
    "\n",
    "print('midwest')\n",
    "sns.boxplot(y=midwest_df.Price)\n",
    "plt.show()\n",
    "print(midwest_df.Price.describe())\n",
    "print()\n",
    "print()\n",
    "\n",
    "\n",
    "print('west')\n",
    "sns.boxplot(y=west_df.Price)\n",
    "plt.show()\n",
    "print(west_df.Price.describe())\n",
    "print()"
   ]
  },
  {
   "cell_type": "code",
   "execution_count": 99,
   "metadata": {},
   "outputs": [],
   "source": [
    "import seaborn as sns"
   ]
  },
  {
   "cell_type": "markdown",
   "metadata": {},
   "source": [
    "# Distributions Between Regions"
   ]
  },
  {
   "cell_type": "code",
   "execution_count": 106,
   "metadata": {},
   "outputs": [
    {
     "data": {
      "image/png": "[encoded data removed]",
      "text/plain": [
       "<Figure size 432x288 with 1 Axes>"
      ]
     },
     "metadata": {
      "needs_background": "light"
     },
     "output_type": "display_data"
    },
    {
     "data": {
      "image/png": "[encoded data removed]",
      "text/plain": [
       "<Figure size 432x288 with 1 Axes>"
      ]
     },
     "metadata": {
      "needs_background": "light"
     },
     "output_type": "display_data"
    }
   ],
   "source": [
    "plt.title('Price distribution northeast')\n",
    "sns.distplot(ca_df[\"Price\"])\n",
    "plt.show()\n",
    "sns.distplot(tx_df[\"Price\"])\n",
    "plt.show()\n",
    "\n"
   ]
  }
 ],
 "metadata": {
  "kernelspec": {
   "display_name": "Python 3",
   "language": "python",
   "name": "python3"
  },
  "language_info": {
   "codemirror_mode": {
    "name": "ipython",
    "version": 3
   },
   "file_extension": ".py",
   "mimetype": "text/x-python",
   "name": "python",
   "nbconvert_exporter": "python",
   "pygments_lexer": "ipython3",
   "version": "3.7.6"
  }
 },
 "nbformat": 4,
 "nbformat_minor": 4
}
